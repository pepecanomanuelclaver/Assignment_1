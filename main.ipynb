{
 "cells": [
  {
   "cell_type": "markdown",
   "source": [
    "# Assignment 1: Camera Geometric Calibration\n",
    "### Developed by: Ana San Roman Gaitero and Jose Luis Cano-Manuel Claver\n",
    "### 19-02-2023"
   ],
   "metadata": {
    "collapsed": false
   }
  },
  {
   "cell_type": "code",
   "execution_count": null,
   "outputs": [],
   "source": [
    "import numpy as np\n",
    "import cv2 as cv\n",
    "import glob2 as glob\n",
    "import functions"
   ],
   "metadata": {
    "collapsed": false
   }
  },
  {
   "cell_type": "code",
   "execution_count": null,
   "outputs": [],
   "source": [
    "# function needs to be on the main script due to the setMouseCallback function\n",
    "def click_corner(click, x1, y1, flags, params):\n",
    "    \"\"\"\n",
    "    This function displays the coordinates of the points clicked\n",
    "    on the image, and saves them on a list to later use.\n",
    "    :param click: click mouse event on the screen\n",
    "    :param x1: x coordinate\n",
    "    :param y1: y coordinate\n",
    "    :param params: for any additional variables\n",
    "    \"\"\"\n",
    "    # checking for left mouse clicks\n",
    "    if click == cv.EVENT_LBUTTONDOWN:\n",
    "        # save on list x,y coordinates for the later interpolation\n",
    "        corner_clicks.append([x1,y1])\n",
    "\n",
    "        # displaying the coordinates on the image window\n",
    "        font = cv.FONT_HERSHEY_SIMPLEX\n",
    "        cv.putText(img, str(x1) + ',' +\n",
    "                    str(y1), (x1,y1), font,\n",
    "                    1, (255, 0, 0), 2)\n",
    "        cv.imshow('img', img)\n",
    "\n",
    "    # checking for right mouse clicks\n",
    "    if click==cv.EVENT_RBUTTONDOWN:\n",
    "        # save on list x,y coordinates for the later interpolation\n",
    "        corner_clicks.append([x1,y1])\n",
    "        # displaying the coordinates on the image window\n",
    "        font = cv.FONT_HERSHEY_SIMPLEX\n",
    "        b = img[y1, x1, 0]\n",
    "        g = img[y1, x1, 1]\n",
    "        r = img[y1, x1, 2]\n",
    "        cv.putText(img, str(b) + ',' +\n",
    "                    str(g) + ',' + str(r),\n",
    "                    (x1,y1), font, 1,\n",
    "                    (255, 255, 0), 2)\n",
    "        cv.imshow('img', img)"
   ],
   "metadata": {
    "collapsed": false
   }
  },
  {
   "cell_type": "markdown",
   "source": [
    "# Offline"
   ],
   "metadata": {
    "collapsed": false
   }
  },
  {
   "cell_type": "code",
   "execution_count": null,
   "outputs": [],
   "source": [
    "# introduce path of the images\n",
    "path='Images/'\n",
    "images = glob.glob(path+'Run2/*.jpg')\n",
    "\n",
    "# determine characteristics of the chessboard\n",
    "size1 = 9\n",
    "size2 = 6\n",
    "square_size = 22 #mm"
   ],
   "metadata": {
    "collapsed": false
   }
  },
  {
   "cell_type": "code",
   "execution_count": null,
   "outputs": [],
   "source": [
    "\"\"\"\"\n",
    "OFFLINE PHASE: Implementation of the geometric-camera\n",
    "calibration using the training images from each run.\n",
    "\"\"\"\n",
    "\n",
    "# termination criteria\n",
    "criteria = (cv.TERM_CRITERIA_EPS + cv.TERM_CRITERIA_MAX_ITER, square_size, 0.001)\n",
    "\n",
    "# create an array of the real world points in mm starting from the top left\n",
    "objp = np.zeros((size1*size2,3), np.float32)\n",
    "objp[:,:2] = np.mgrid[0:size1,0:size2].T.reshape(-1,2)\n",
    "objp[:,:2]=objp[:,:2]*square_size # in mm\n",
    "\n",
    "# arrays to store object points and image points from all the images.\n",
    "objpoints = [] # 3d point in real world space (mm)\n",
    "imgpoints = [] # 2d points in image plane (pixels).\n",
    "corner_clicks=[]  # pixel coordinates for manual corners\n",
    "\n",
    "# iterate through each image\n",
    "for fname in images:\n",
    "    img = cv.imread(fname)\n",
    "    # apply canny filter, edge detection for a sharpened image\n",
    "    _,img = functions.canny(img)\n",
    "     # convert image to gray\n",
    "    gray = cv.cvtColor(img, cv.COLOR_BGR2GRAY)\n",
    "    # Find the chess board corners\n",
    "    ret, corners = cv.findChessboardCorners(gray, (size1, size2), None)\n",
    "    print(corners)\n",
    "    count=[]\n",
    "    # If found, add object points, image points (after refining them)\n",
    "    if ret:\n",
    "        objpoints.append(objp)\n",
    "        # Detect corners location in subpixels\n",
    "        corners2 = cv.cornerSubPix(gray,corners, (11,11), (-1,-1), criteria)\n",
    "        imgpoints.append(corners2)\n",
    "        # Draw and display the corners\n",
    "        cv.drawChessboardCorners(img, (size1,size2), corners2, ret)\n",
    "        cv.imshow('img', img)\n",
    "        cv.waitKey(30)\n",
    "    # if not found, do manual selection of corners\n",
    "    if not ret:\n",
    "        objpoints.append(objp)\n",
    "        # Get mouse click coordinates\n",
    "        cv.setMouseCallback('img', click_corner)\n",
    "        k=0\n",
    "        # Close the window when key q is pressed\n",
    "        while k!=113:\n",
    "          # Display the image\n",
    "          cv.imshow(\"img\", img)\n",
    "          k = cv.waitKey(0)\n",
    "\n",
    "        # interpolate the corners of the chessboard grid\n",
    "        corners_manual,corners_print = functions.interpolation(corner_clicks, size1, size2)\n",
    "        corners_manual=np.array(corners_manual,dtype='float32')\n",
    "\n",
    "        # empty corner_clicks for next manual image\n",
    "        corner_clicks=[]\n",
    "\n",
    "        # Draw the interpolated points on the image\n",
    "        color = (0, 0, 255) # in BGR format\n",
    "        radius = 5\n",
    "        for dot in corners_print:\n",
    "            cv.circle(img, dot, radius, color, -1)\n",
    "        # Show the image with the dots\n",
    "        imgpoints.append(corners_manual)\n",
    "        cv.imshow('img', img)\n",
    "        cv.waitKey(1000)\n",
    "\n",
    "cv.destroyAllWindows()\n"
   ],
   "metadata": {
    "collapsed": false
   }
  },
  {
   "cell_type": "code",
   "execution_count": null,
   "outputs": [],
   "source": [
    "# Calibration with all images\n",
    "print(\"Total error before the detection and rejection of low quality input images\")\n",
    "_, _, _, _, tot_error = functions.calibration(objpoints, imgpoints, gray)\n",
    "\n",
    "#Detection of low quality images by detecting outliers in calibration error\n",
    "outliers, objpoints, imgpoints = functions.reject_outliers(tot_error, objpoints, imgpoints)\n",
    "\n",
    "# Calibration removing low quality images\n",
    "print(\"Total error before the detection and rejection of low quality input images\")\n",
    "mtx, dist, rvecs, tvecs, _ = functions.calibration(objpoints, imgpoints, gray)\n"
   ],
   "metadata": {
    "collapsed": false
   }
  },
  {
   "cell_type": "markdown",
   "source": [
    "# Online phase"
   ],
   "metadata": {
    "collapsed": false
   }
  },
  {
   "cell_type": "markdown",
   "source": [
    "## New image calibration"
   ],
   "metadata": {
    "collapsed": false
   }
  },
  {
   "cell_type": "code",
   "execution_count": null,
   "outputs": [],
   "source": [
    "img = cv.imread(path+'test_def.jpg')\n",
    "# height and width\n",
    "h,  w = img.shape[:2]\n",
    "# obtain the new k matrix of new image based on the estimated instrisic parameters\n",
    "newcameramtx, roi = cv.getOptimalNewCameraMatrix(mtx, dist, (w,h), 1, (w,h))"
   ],
   "metadata": {
    "collapsed": false
   }
  },
  {
   "cell_type": "code",
   "execution_count": null,
   "outputs": [],
   "source": [
    "# correct test image with estimated parameters from calibration\n",
    "dst = cv.undistort(img, mtx, dist, None, newcameramtx)\n",
    "# crop the image\n",
    "x, y, w, h = roi\n",
    "dst = dst[y:y+h, x:x+w]\n",
    "cv.imwrite(path+'test_calibrated.jpg', dst)"
   ],
   "metadata": {
    "collapsed": false
   }
  },
  {
   "cell_type": "code",
   "execution_count": null,
   "outputs": [],
   "source": [
    "img = cv.imread(path+'test_calibrated.jpg')\n",
    "img = functions.online_phase(img, newcameramtx, dist, size1, size2,square_size)"
   ],
   "metadata": {
    "collapsed": false
   }
  },
  {
   "cell_type": "code",
   "execution_count": null,
   "outputs": [],
   "source": [
    "# Visualize the final image with the cube and axis\n",
    "cv.imshow('test',img)\n",
    "cv.waitKey(8000)\n",
    "cv.destroyAllWindows()\n",
    "cv.imwrite(path+'Run2.jpg', img)"
   ],
   "metadata": {
    "collapsed": false
   }
  },
  {
   "cell_type": "markdown",
   "source": [
    "### Video Capturing"
   ],
   "metadata": {
    "collapsed": false
   }
  },
  {
   "cell_type": "code",
   "execution_count": null,
   "outputs": [],
   "source": [
    "# Video capture\n",
    "cam=cv.VideoCapture(0)\n",
    "while True:\n",
    "    hasframe,frame=cam.read()\n",
    "\n",
    "    # if video is False stop video capturing\n",
    "    if hasframe==False:\n",
    "        break\n",
    "    # for each frame in video obtain cube and axis\n",
    "    im=functions.online_phase(frame, newcameramtx, dist, size1, size2, square_size)\n",
    "    cv.imshow('video',im)\n",
    "    # Close the window when key q is pressed\n",
    "    if cv.waitKey(1)==113:\n",
    "        break\n",
    "cv.destroyAllWindows()\n",
    "cam.release()\n"
   ],
   "metadata": {
    "collapsed": false
   }
  }
 ],
 "metadata": {
  "kernelspec": {
   "display_name": "Python 3",
   "language": "python",
   "name": "python3"
  },
  "language_info": {
   "codemirror_mode": {
    "name": "ipython",
    "version": 2
   },
   "file_extension": ".py",
   "mimetype": "text/x-python",
   "name": "python",
   "nbconvert_exporter": "python",
   "pygments_lexer": "ipython2",
   "version": "2.7.6"
  }
 },
 "nbformat": 4,
 "nbformat_minor": 0
}
